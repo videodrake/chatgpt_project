{
 "cells": [
  {
   "cell_type": "code",
   "execution_count": 2,
   "metadata": {},
   "outputs": [],
   "source": [
    "import requests\n",
    "from bs4 import BeautifulSoup\n",
    "\n",
    "url = \"https://finance.naver.com/sise/\"\n",
    "response = requests.get(url)"
   ]
  },
  {
   "cell_type": "code",
   "execution_count": 3,
   "metadata": {},
   "outputs": [
    {
     "data": {
      "text/plain": [
       "<title>국내증시 : 네이버 증권</title>"
      ]
     },
     "execution_count": 3,
     "metadata": {},
     "output_type": "execute_result"
    }
   ],
   "source": [
    "html = response.text\n",
    "soup = BeautifulSoup(html, 'html.parser')\n",
    "soup.title"
   ]
  },
  {
   "cell_type": "code",
   "execution_count": 4,
   "metadata": {},
   "outputs": [
    {
     "name": "stdout",
     "output_type": "stream",
     "text": [
      "<table cellpadding=\"0\" cellspacing=\"0\" class=\"type_1\" id=\"frgn_deal_tab_0\" summary=\"외국인 순매수 리스트\">\n",
      "<caption>외국인 순매수</caption>\n",
      "<col width=\"10%\"/><col width=\"*\"/><col width=\"24%\"/><col width=\"24%\"/>\n",
      "<tr><td class=\"blank_10\" colspan=\"4\"></td></tr>\n",
      "<tr>\n",
      "<td class=\"tc\"><img alt=\"01\" height=\"11\" src=\"https://ssl.pstatic.net/imgstock/images5/ico_n01.gif\" width=\"11\"/></td>\n",
      "<td><a href=\"/item/main.naver?code=005930\" onclick=\"clickcr(this, 'wez*b.list', '005930', '1', event);\">삼성전자</a></td>\n",
      "<td class=\"number\">66,000</td>\n",
      "<td class=\"rate_up\">\n",
      "<em class=\"bu_p bu_pup\" style=\"margin:0 4px 0 0\"><span class=\"blind\">상승</span></em><span class=\"tah p11 red01\">\n",
      "\t\t\t\t900\n",
      "\t\t\t\t</span>\n",
      "</td>\n",
      "</tr>\n",
      "<tr>\n",
      "<td class=\"tc\"><img alt=\"01\" height=\"11\" src=\"https://ssl.pstatic.net/imgstock/images5/ico_n02.gif\" width=\"11\"/></td>\n",
      "<td><a href=\"/item/main.naver?code=207940\" onclick=\"clickcr(this, 'wez*b.list', '207940', '2', event);\">삼성바이오로직스</a></td>\n",
      "<td class=\"number\">790,000</td>\n",
      "<td class=\"rate_up\">\n",
      "<em class=\"bu_p bu_pdn\" style=\"margin:0 4px 0 0\"><span class=\"blind\">하락</span></em><span class=\"tah p11 nv01\">\n",
      "\t\t\t\t7,000\n",
      "\t\t\t\t</span>\n",
      "</td>\n",
      "</tr>\n",
      "<tr>\n",
      "<td class=\"tc\"><img alt=\"01\" height=\"11\" src=\"https://ssl.pstatic.net/imgstock/images5/ico_n03.gif\" width=\"11\"/></td>\n",
      "<td><a href=\"/item/main.naver?code=302440\" onclick=\"clickcr(this, 'wez*b.list', '302440', '3', event);\">SK바이오사이언스</a></td>\n",
      "<td class=\"number\">78,300</td>\n",
      "<td class=\"rate_up\">\n",
      "<em class=\"bu_p bu_pdn\" style=\"margin:0 4px 0 0\"><span class=\"blind\">하락</span></em><span class=\"tah p11 nv01\">\n",
      "\t\t\t\t4,800\n",
      "\t\t\t\t</span>\n",
      "</td>\n",
      "</tr>\n",
      "<tr><td class=\"blank_03\" colspan=\"3\"></td></tr>\n",
      "<tr><td class=\"division_line\" colspan=\"3\"></td></tr>\n",
      "<tr><td class=\"blank_06\" colspan=\"3\"></td></tr>\n",
      "<tr>\n",
      "<td class=\"tc\"><img alt=\"01\" height=\"11\" src=\"https://ssl.pstatic.net/imgstock/images5/ico_n04.gif\" width=\"11\"/></td>\n",
      "<td><a href=\"/item/main.naver?code=051910\" onclick=\"clickcr(this, 'wez*b.list', '051910', '4', event);\">LG화학</a></td>\n",
      "<td class=\"number\">727,000</td>\n",
      "<td class=\"rate_up\">\n",
      "<em class=\"bu_p bu_pdn\" style=\"margin:0 4px 0 0\"><span class=\"blind\">하락</span></em><span class=\"tah p11 nv01\">\n",
      "\t\t\t\t4,000\n",
      "\t\t\t\t</span>\n",
      "</td>\n",
      "</tr>\n",
      "<tr>\n",
      "<td class=\"tc\"><img alt=\"01\" height=\"11\" src=\"https://ssl.pstatic.net/imgstock/images5/ico_n05.gif\" width=\"11\"/></td>\n",
      "<td><a href=\"/item/main.naver?code=005380\" onclick=\"clickcr(this, 'wez*b.list', '005380', '5', event);\">현대차</a></td>\n",
      "<td class=\"number\">202,000</td>\n",
      "<td class=\"rate_up\">\n",
      "<em class=\"bu_p bu_pup\" style=\"margin:0 4px 0 0\"><span class=\"blind\">상승</span></em><span class=\"tah p11 red01\">\n",
      "\t\t\t\t2,800\n",
      "\t\t\t\t</span>\n",
      "</td>\n",
      "</tr>\n",
      "<tr>\n",
      "<td class=\"tc\"><img alt=\"01\" height=\"11\" src=\"https://ssl.pstatic.net/imgstock/images5/ico_n06.gif\" width=\"11\"/></td>\n",
      "<td><a href=\"/item/main.naver?code=064550\" onclick=\"clickcr(this, 'wez*b.list', '064550', '6', event);\">바이오니아</a></td>\n",
      "<td class=\"number\">51,500</td>\n",
      "<td class=\"rate_up\">\n",
      "<em class=\"bu_p bu_pdn\" style=\"margin:0 4px 0 0\"><span class=\"blind\">하락</span></em><span class=\"tah p11 nv01\">\n",
      "\t\t\t\t21,700\n",
      "\t\t\t\t</span>\n",
      "</td>\n",
      "</tr>\n",
      "<tr><td class=\"blank_08\" colspan=\"4\"></td></tr>\n",
      "<tr><td class=\"division_line\" colspan=\"4\"></td></tr>\n",
      "</table>\n"
     ]
    }
   ],
   "source": [
    "foreign_table = soup.find_all('table', class_=\"type_1\")\n",
    "len(foreign_table)\n",
    "print(foreign_table[2])"
   ]
  },
  {
   "cell_type": "code",
   "execution_count": 5,
   "metadata": {},
   "outputs": [
    {
     "data": {
      "text/plain": [
       "[<a href=\"/item/main.naver?code=005930\" onclick=\"clickcr(this, 'wez*b.list', '005930', '1', event);\">삼성전자</a>,\n",
       " <a href=\"/item/main.naver?code=207940\" onclick=\"clickcr(this, 'wez*b.list', '207940', '2', event);\">삼성바이오로직스</a>,\n",
       " <a href=\"/item/main.naver?code=302440\" onclick=\"clickcr(this, 'wez*b.list', '302440', '3', event);\">SK바이오사이언스</a>,\n",
       " <a href=\"/item/main.naver?code=051910\" onclick=\"clickcr(this, 'wez*b.list', '051910', '4', event);\">LG화학</a>,\n",
       " <a href=\"/item/main.naver?code=005380\" onclick=\"clickcr(this, 'wez*b.list', '005380', '5', event);\">현대차</a>,\n",
       " <a href=\"/item/main.naver?code=064550\" onclick=\"clickcr(this, 'wez*b.list', '064550', '6', event);\">바이오니아</a>]"
      ]
     },
     "execution_count": 5,
     "metadata": {},
     "output_type": "execute_result"
    }
   ],
   "source": [
    "foreign_table = soup.find_all('table', class_=\"type_1\")[2]\n",
    "foreign_table\n",
    "foreign_rows = foreign_table.find_all('a')\n",
    "foreign_rows"
   ]
  },
  {
   "cell_type": "code",
   "execution_count": 6,
   "metadata": {},
   "outputs": [
    {
     "name": "stdout",
     "output_type": "stream",
     "text": [
      "삼성전자\n",
      "삼성바이오로직스\n",
      "SK바이오사이언스\n",
      "LG화학\n",
      "현대차\n",
      "바이오니아\n"
     ]
    }
   ],
   "source": [
    "for row in foreign_rows:\n",
    "    print(row.text)"
   ]
  },
  {
   "cell_type": "code",
   "execution_count": null,
   "metadata": {},
   "outputs": [],
   "source": []
  }
 ],
 "metadata": {
  "kernelspec": {
   "display_name": "base",
   "language": "python",
   "name": "python3"
  },
  "language_info": {
   "codemirror_mode": {
    "name": "ipython",
    "version": 3
   },
   "file_extension": ".py",
   "mimetype": "text/x-python",
   "name": "python",
   "nbconvert_exporter": "python",
   "pygments_lexer": "ipython3",
   "version": "3.9.13"
  },
  "orig_nbformat": 4
 },
 "nbformat": 4,
 "nbformat_minor": 2
}
