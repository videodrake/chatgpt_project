{
 "cells": [
  {
   "cell_type": "code",
   "execution_count": 5,
   "metadata": {},
   "outputs": [],
   "source": [
    "import requests\n",
    "from bs4 import BeautifulSoup\n",
    "\n",
    "url = 'https://www.gicon.or.kr/board.es?mid=a10204000000&bid=0003'\n",
    "\n",
    "response = requests.get(url)\n",
    "soup = BeautifulSoup(response.content, 'html.parser')\n",
    "\n",
    "notice_list = soup.find('table', class_='tstyle_list')"
   ]
  },
  {
   "cell_type": "code",
   "execution_count": 6,
   "metadata": {},
   "outputs": [
    {
     "data": {
      "text/plain": [
       "[<a href=\"/board.es?mid=a10204000000&amp;bid=0003&amp;act=view&amp;list_no=29345&amp;nPage=1\" onclick=\"goView('29345'); return false;\">「실감콘텐츠 제작스튜디오 제작 지원 사업」수정공고</a>,\n",
       " <a href=\"/board.es?mid=a10204000000&amp;bid=0003&amp;act=view&amp;list_no=29352&amp;nPage=1\" onclick=\"goView('29352'); return false;\">[광주저작권서비스센터] 2023 저작권 교육 신청 안내</a>,\n",
       " <a href=\"/board.es?mid=a10204000000&amp;bid=0003&amp;act=view&amp;list_no=29371&amp;nPage=1\" onclick=\"goView('29371'); return false;\">2023 광주콘텐츠코리아랩 예비창업 스타트업 리그 추가모집 공고</a>,\n",
       " <a href=\"/board.es?mid=a10204000000&amp;bid=0003&amp;act=view&amp;list_no=29362&amp;nPage=1\" onclick=\"goView('29362'); return false;\">[광주저작권서비스센터] 2023 저작권 상담 및 산업현장 컨설팅 신청 안내</a>,\n",
       " <a href=\"/board.es?mid=a10204000000&amp;bid=0003&amp;act=view&amp;list_no=29379&amp;nPage=1\" onclick=\"goView('29379'); return false;\">[광주저작권서비스센터] 2023 저작권 등록 및 SW 임치 수수료 지원 공고</a>,\n",
       " <a href=\"/board.es?mid=a10204000000&amp;bid=0003&amp;act=view&amp;list_no=29392&amp;nPage=1\" onclick=\"goView('29392'); return false;\">[광주글로벌게임센터] 입주기업 추가 모집 공고</a>,\n",
       " <a href=\"/board.es?mid=a10204000000&amp;bid=0003&amp;act=view&amp;list_no=29394&amp;nPage=1\" onclick=\"goView('29394'); return false;\">『2023년 광주1인창조·중장년·디지털미디어센터』맞춤형 창업과정 교육생 모집 공고</a>,\n",
       " <a href=\"/board.es?mid=a10204000000&amp;bid=0003&amp;act=view&amp;list_no=29395&amp;nPage=1\" onclick=\"goView('29395'); return false;\">2023 광주콘텐츠코리아랩 콘텐츠 창작자 팀 프로젝트 작(作)당모의 모집 공고</a>,\n",
       " <a href=\"/board.es?mid=a10204000000&amp;bid=0003&amp;act=view&amp;list_no=29402&amp;nPage=1\" onclick=\"goView('29402'); return false;\">「2023년 ICT이노베이션스퀘어 확산사업」개발자 소그룹 팀빌딩(4기) 모집 공고</a>,\n",
       " <a href=\"/board.es?mid=a10204000000&amp;bid=0003&amp;act=view&amp;list_no=29411&amp;nPage=1\" onclick=\"goView('29411'); return false;\">메타버스, XR 융합콘텐츠 제작·실증지원사업 과제 모집 공고</a>,\n",
       " <a href=\"/board.es?mid=a10204000000&amp;bid=0003&amp;act=view&amp;list_no=29418&amp;nPage=1\" onclick=\"goView('29418'); return false;\">『2023 OTT플랫폼 콘텐츠 기획개발』OTT플랫폼 원천스토리 창작지원 [스토리집-창작 4기] 모집공고</a>,\n",
       " <a href=\"/board.es?mid=a10204000000&amp;bid=0003&amp;act=view&amp;list_no=29419&amp;nPage=1\" onclick=\"goView('29419'); return false;\">『2023 OTT플랫폼 콘텐츠 기획개발』OTT플랫폼 스토리 완성화 개발 [스토리집-각색 2기] 모집공고</a>,\n",
       " <a href=\"/board.es?mid=a10204000000&amp;bid=0003&amp;act=view&amp;list_no=29442&amp;nPage=1\" onclick=\"goView('29442'); return false;\"><i class=\"xi-new\"><span class=\"sr_only\">새글</span></i> 『2023 광주영상영화진흥지원』 광주영화제작지원 사업 공고</a>,\n",
       " <a href=\"/board.es?mid=a10204000000&amp;bid=0003&amp;act=view&amp;list_no=29404&amp;tag=&amp;nPage=1\" onclick=\"goView('29404'); return false;\">  「2023년 지역주도SW성장지원」제12회 스마트테크 코리아 GICON 공동관 참가기업 추가모집공고</a>,\n",
       " <a href=\"/board.es?mid=a10204000000&amp;bid=0003&amp;act=view&amp;list_no=29405&amp;tag=&amp;nPage=1\" onclick=\"goView('29405'); return false;\">  2023년 SW품질컨설팅 및 테스팅 지원사업 공고</a>,\n",
       " <a href=\"/board.es?mid=a10204000000&amp;bid=0003&amp;act=view&amp;list_no=29346&amp;tag=&amp;nPage=1\" onclick=\"goView('29346'); return false;\">  문화콘텐츠 상시멘토링 참여 기업 모집 공고</a>,\n",
       " <a href=\"/board.es?mid=a10204000000&amp;bid=0003&amp;act=view&amp;list_no=29440&amp;tag=&amp;nPage=1\" onclick=\"goView('29440'); return false;\"> <i class=\"xi-new\"></i><span class=\"sr_only\">새글</span> 「2023년 이노베이션스퀘어 확산사업」청년창업지원 AI창업스쿨 선정과제 결과 공고</a>,\n",
       " <a href=\"/board.es?mid=a10204000000&amp;bid=0003&amp;act=view&amp;list_no=29408&amp;tag=&amp;nPage=1\" onclick=\"goView('29408'); return false;\">  2023년 광주스마트모바일앱개발지원센터 스마트콘텐츠 제작지원 모집 공고</a>,\n",
       " <a href=\"/board.es?mid=a10204000000&amp;bid=0003&amp;act=view&amp;list_no=29403&amp;tag=&amp;nPage=1\" onclick=\"goView('29403'); return false;\">  광주글로벌게임센터 통합형 게임 콘텐츠 제작 지원 접수결과 공고</a>,\n",
       " <a href=\"/board.es?mid=a10204000000&amp;bid=0003&amp;act=view&amp;list_no=29390&amp;tag=&amp;nPage=1\" onclick=\"goView('29390'); return false;\">  2023 광주콘텐츠코리아랩 초기창업 스타트업 리그 모집 공고</a>,\n",
       " <a href=\"/board.es?mid=a10204000000&amp;bid=0003&amp;act=view&amp;list_no=29389&amp;tag=&amp;nPage=1\" onclick=\"goView('29389'); return false;\">  「2023년 지역주도SW성장지원」지역 디지털기업 국외전시회 개별참가지원 참가기업 모집공고</a>,\n",
       " <a href=\"/board.es?mid=a10204000000&amp;bid=0003&amp;act=view&amp;list_no=29386&amp;tag=&amp;nPage=1\" onclick=\"goView('29386'); return false;\">  『2023년 1인창조센터‧중장년센터‧앱개발센터‧디지털미디어센터』선택형 사업 프로그램(사업화지원)  모집 ..</a>,\n",
       " <a href=\"/board.es?mid=a10204000000&amp;bid=0003&amp;act=view&amp;list_no=29441&amp;tag=&amp;nPage=1\" onclick=\"goView('29441'); return false;\"> <i class=\"xi-new\"></i><span class=\"sr_only\">새글</span> [광주글로벌게임센터] 인디스타즈(IndiStars) 8기 선정 결과 공고</a>]"
      ]
     },
     "execution_count": 6,
     "metadata": {},
     "output_type": "execute_result"
    }
   ],
   "source": [
    "notice_rows = notice_list.find_all('a')\n",
    "notice_rows"
   ]
  },
  {
   "cell_type": "code",
   "execution_count": 7,
   "metadata": {},
   "outputs": [],
   "source": [
    "item = []\n",
    "for i in notice_rows:\n",
    "    item.append(i.text)"
   ]
  },
  {
   "cell_type": "code",
   "execution_count": 8,
   "metadata": {},
   "outputs": [
    {
     "name": "stdout",
     "output_type": "stream",
     "text": [
      "['「실감콘텐츠 제작스튜디오 제작 지원 사업」수정공고', '[광주저작권서비스센터] 2023 저작권 교육 신청 안내', '2023 광주콘텐츠코리아랩 예비창업 스타트업 리그 추가모집 공고', '[광주저작권서비스센터] 2023 저작권 상담 및 산업현장 컨설팅 신청 안내', '[광주저작권서비스센터] 2023 저작권 등록 및 SW 임치 수수료 지원 공고', '[광주글로벌게임센터] 입주기업 추가 모집 공고', '『2023년 광주1인창조·중장년·디지털미디어센터』맞춤형 창업과정 교육생 모집 공고', '2023 광주콘텐츠코리아랩 콘텐츠 창작자 팀 프로젝트 작(作)당모의 모집 공고', '「2023년 ICT이노베이션스퀘어 확산사업」개발자 소그룹 팀빌딩(4기) 모집 공고', '메타버스, XR 융합콘텐츠 제작·실증지원사업 과제 모집 공고', '『2023 OTT플랫폼 콘텐츠 기획개발』OTT플랫폼 원천스토리 창작지원 [스토리집-창작 4기] 모집공고', '『2023 OTT플랫폼 콘텐츠 기획개발』OTT플랫폼 스토리 완성화 개발 [스토리집-각색 2기] 모집공고', '새글 『2023 광주영상영화진흥지원』 광주영화제작지원 사업 공고', '  「2023년 지역주도SW성장지원」제12회 스마트테크 코리아 GICON 공동관 참가기업 추가모집공고', '  2023년 SW품질컨설팅 및 테스팅 지원사업 공고', '  문화콘텐츠 상시멘토링 참여 기업 모집 공고', ' 새글 「2023년 이노베이션스퀘어 확산사업」청년창업지원 AI창업스쿨 선정과제 결과 공고', '  2023년 광주스마트모바일앱개발지원센터 스마트콘텐츠 제작지원 모집 공고', '  광주글로벌게임센터 통합형 게임 콘텐츠 제작 지원 접수결과 공고', '  2023 광주콘텐츠코리아랩 초기창업 스타트업 리그 모집 공고', '  「2023년 지역주도SW성장지원」지역 디지털기업 국외전시회 개별참가지원 참가기업 모집공고', '  『2023년 1인창조센터‧중장년센터‧앱개발센터‧디지털미디어센터』선택형 사업 프로그램(사업화지원)  모집 ..', ' 새글 [광주글로벌게임센터] 인디스타즈(IndiStars) 8기 선정 결과 공고']\n"
     ]
    }
   ],
   "source": [
    "print(item)"
   ]
  },
  {
   "cell_type": "code",
   "execution_count": null,
   "metadata": {},
   "outputs": [],
   "source": []
  }
 ],
 "metadata": {
  "kernelspec": {
   "display_name": "base",
   "language": "python",
   "name": "python3"
  },
  "language_info": {
   "codemirror_mode": {
    "name": "ipython",
    "version": 3
   },
   "file_extension": ".py",
   "mimetype": "text/x-python",
   "name": "python",
   "nbconvert_exporter": "python",
   "pygments_lexer": "ipython3",
   "version": "3.9.13"
  },
  "orig_nbformat": 4
 },
 "nbformat": 4,
 "nbformat_minor": 2
}
